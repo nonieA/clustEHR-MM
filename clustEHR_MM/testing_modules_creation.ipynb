{
 "cells": [
  {
   "cell_type": "code",
   "execution_count": 1,
   "metadata": {},
   "outputs": [],
   "source": [
    "import pandas as pd\n",
    "import json\n",
    "import os\n",
    "import importlib"
   ]
  },
  {
   "cell_type": "code",
   "execution_count": 2,
   "metadata": {},
   "outputs": [],
   "source": [
    "os.chdir('..')"
   ]
  },
  {
   "cell_type": "code",
   "execution_count": 3,
   "metadata": {},
   "outputs": [],
   "source": [
    "import clustEHR_MM.module_edit_functions as mef\n",
    "import clustEHR_MM.synthea_functions as sf"
   ]
  },
  {
   "cell_type": "code",
   "execution_count": 13,
   "metadata": {
    "pycharm": {
     "name": "#%%\n"
    }
   },
   "outputs": [
    {
     "data": {
      "text/plain": [
       "<module 'clustEHR_MM.module_edit_functions' from 'C:\\\\Users\\\\nonie\\\\Documents\\\\clustEHR-MM\\\\clustEHR_MM\\\\module_edit_functions.py'>"
      ]
     },
     "execution_count": 13,
     "metadata": {},
     "output_type": "execute_result"
    }
   ],
   "source": [
    "importlib.reload(mef) "
   ]
  },
  {
   "cell_type": "code",
   "execution_count": 4,
   "metadata": {},
   "outputs": [],
   "source": [
    "def test_module_maker(disease):\n",
    "    try:\n",
    "        mef.write_new_folder('diabetes',disease,'test',2,'test_m')\n",
    "    except:\n",
    "        return disease"
   ]
  },
  {
   "cell_type": "code",
   "execution_count": 5,
   "metadata": {},
   "outputs": [],
   "source": [
    "def test_module_maker(disease):\n",
    "    try:\n",
    "        mef.write_new_folder('diabetes',disease,'test',2,'test_m')\n",
    "    except:\n",
    "        return disease"
   ]
  },
  {
   "cell_type": "code",
   "execution_count": 6,
   "metadata": {},
   "outputs": [],
   "source": [
    "def test_disease(disease_a,disease_b,addition):\n",
    "    sf.run_function(disease_a,disease_b,'test/modules_test','test/csv_test',addition,10000,4,2,True)\n",
    "    return sf.get_counts(disease_a,'Stomatisis','test/csv_test',addition)"
   ]
  },
  {
   "cell_type": "code",
   "execution_count": 7,
   "metadata": {
    "pycharm": {
     "name": "#%%\n"
    }
   },
   "outputs": [],
   "source": [
    "modules = os.listdir('modules/module_bases')"
   ]
  },
  {
   "cell_type": "code",
   "execution_count": 8,
   "metadata": {
    "pycharm": {
     "name": "#%%\n"
    }
   },
   "outputs": [],
   "source": [
    "broken_modules = [test_module_maker(i) for i in modules]"
   ]
  },
  {
   "cell_type": "code",
   "execution_count": 9,
   "metadata": {
    "pycharm": {
     "name": "#%%\n"
    }
   },
   "outputs": [],
   "source": [
    "broken_modules = [i for i in broken_modules if isinstance(i,str)]\n"
   ]
  },
  {
   "cell_type": "code",
   "execution_count": 10,
   "metadata": {
    "pycharm": {
     "name": "#%%\n"
    }
   },
   "outputs": [
    {
     "name": "stdout",
     "output_type": "stream",
     "text": [
      "5\n"
     ]
    },
    {
     "data": {
      "text/plain": [
       "['copd', 'ear_infections', 'gallstones', 'lung_cancer', 'osteoarthritis']"
      ]
     },
     "execution_count": 10,
     "metadata": {},
     "output_type": "execute_result"
    }
   ],
   "source": [
    "print(len(broken_modules))\n",
    "broken_modules"
   ]
  },
  {
   "cell_type": "code",
   "execution_count": 14,
   "metadata": {
    "pycharm": {
     "name": "#%%\n"
    }
   },
   "outputs": [
    {
     "ename": "KeyError",
     "evalue": "'distributions'",
     "output_type": "error",
     "traceback": [
      "\u001b[1;31m---------------------------------------------------------------------------\u001b[0m",
      "\u001b[1;31mKeyError\u001b[0m                                  Traceback (most recent call last)",
      "\u001b[1;32m<ipython-input-14-82e1e492c316>\u001b[0m in \u001b[0;36m<module>\u001b[1;34m\u001b[0m\n\u001b[0;32m      1\u001b[0m \u001b[0mdisease\u001b[0m \u001b[1;33m=\u001b[0m \u001b[1;34m'copd'\u001b[0m\u001b[1;33m\u001b[0m\u001b[1;33m\u001b[0m\u001b[0m\n\u001b[1;32m----> 2\u001b[1;33m \u001b[0mmef\u001b[0m\u001b[1;33m.\u001b[0m\u001b[0mwrite_new_folder\u001b[0m\u001b[1;33m(\u001b[0m\u001b[1;34m'diabetes'\u001b[0m\u001b[1;33m,\u001b[0m\u001b[0mdisease\u001b[0m\u001b[1;33m,\u001b[0m\u001b[1;34m'test'\u001b[0m\u001b[1;33m,\u001b[0m\u001b[1;36m2\u001b[0m\u001b[1;33m,\u001b[0m\u001b[1;34m'test_m'\u001b[0m\u001b[1;33m)\u001b[0m\u001b[1;33m\u001b[0m\u001b[1;33m\u001b[0m\u001b[0m\n\u001b[0m",
      "\u001b[1;32m~\\Documents\\clustEHR-MM\\clustEHR_MM\\module_edit_functions.py\u001b[0m in \u001b[0;36mwrite_new_folder\u001b[1;34m(disease_a, disease_b, out_folder, mult, addition, test)\u001b[0m\n\u001b[0;32m    220\u001b[0m         \u001b[0mnew_top\u001b[0m \u001b[1;33m=\u001b[0m \u001b[0mwrite_test_dict\u001b[0m\u001b[1;33m(\u001b[0m\u001b[0mtop_dict\u001b[0m\u001b[1;33m,\u001b[0m \u001b[0mdisease_a\u001b[0m\u001b[1;33m,\u001b[0m \u001b[0mmult\u001b[0m\u001b[1;33m)\u001b[0m\u001b[1;33m\u001b[0m\u001b[1;33m\u001b[0m\u001b[0m\n\u001b[0;32m    221\u001b[0m     \u001b[1;32melse\u001b[0m\u001b[1;33m:\u001b[0m\u001b[1;33m\u001b[0m\u001b[1;33m\u001b[0m\u001b[0m\n\u001b[1;32m--> 222\u001b[1;33m         \u001b[0mnew_top\u001b[0m \u001b[1;33m=\u001b[0m \u001b[0mwrite_top_dict\u001b[0m\u001b[1;33m(\u001b[0m\u001b[0mtop_dict\u001b[0m\u001b[1;33m,\u001b[0m\u001b[0mdisease_a\u001b[0m\u001b[1;33m,\u001b[0m\u001b[0mmult\u001b[0m\u001b[1;33m)\u001b[0m\u001b[1;33m\u001b[0m\u001b[1;33m\u001b[0m\u001b[0m\n\u001b[0m\u001b[0;32m    223\u001b[0m     \u001b[0mnew_disease\u001b[0m\u001b[1;33m[\u001b[0m\u001b[1;34m'states'\u001b[0m\u001b[1;33m]\u001b[0m \u001b[1;33m=\u001b[0m \u001b[1;33m{\u001b[0m\u001b[1;33m**\u001b[0m\u001b[0mnew_top\u001b[0m\u001b[1;33m,\u001b[0m\u001b[1;33m**\u001b[0m\u001b[0mbottom_dict\u001b[0m\u001b[1;33m}\u001b[0m\u001b[1;33m\u001b[0m\u001b[1;33m\u001b[0m\u001b[0m\n\u001b[0;32m    224\u001b[0m     \u001b[0mfull_disease_out\u001b[0m \u001b[1;33m=\u001b[0m  \u001b[0mout_folder\u001b[0m \u001b[1;33m+\u001b[0m \u001b[1;34m'/'\u001b[0m \u001b[1;33m+\u001b[0m \u001b[0mdisease_b\u001b[0m \u001b[1;33m+\u001b[0m \u001b[1;34m'_'\u001b[0m \u001b[1;33m+\u001b[0m \u001b[0maddition\u001b[0m\u001b[1;33m\u001b[0m\u001b[1;33m\u001b[0m\u001b[0m\n",
      "\u001b[1;32m~\\Documents\\clustEHR-MM\\clustEHR_MM\\module_edit_functions.py\u001b[0m in \u001b[0;36mwrite_top_dict\u001b[1;34m(dis_top_dict, disease, mult)\u001b[0m\n\u001b[0;32m    125\u001b[0m         \u001b[1;32mif\u001b[0m \u001b[0mtransit_name\u001b[0m \u001b[1;33m==\u001b[0m \u001b[1;34m'complex_transition'\u001b[0m\u001b[1;33m:\u001b[0m\u001b[1;33m\u001b[0m\u001b[1;33m\u001b[0m\u001b[0m\n\u001b[0;32m    126\u001b[0m             \u001b[1;32mfor\u001b[0m \u001b[0mind\u001b[0m\u001b[1;33m,\u001b[0m\u001b[0mval\u001b[0m \u001b[1;32min\u001b[0m \u001b[0menumerate\u001b[0m\u001b[1;33m(\u001b[0m\u001b[0mtop_dict_copy\u001b[0m\u001b[1;33m[\u001b[0m\u001b[0mi\u001b[0m\u001b[1;33m]\u001b[0m\u001b[1;33m[\u001b[0m\u001b[0mtransit_name\u001b[0m\u001b[1;33m]\u001b[0m\u001b[1;33m)\u001b[0m\u001b[1;33m:\u001b[0m\u001b[1;33m\u001b[0m\u001b[1;33m\u001b[0m\u001b[0m\n\u001b[1;32m--> 127\u001b[1;33m                 top_dict_copy[i][transit_name][ind]['distributions'] = transition_multiplier(val['distributions'],\n\u001b[0m\u001b[0;32m    128\u001b[0m                                                                                              \u001b[0mmult\u001b[0m\u001b[1;33m,\u001b[0m\u001b[1;33m\u001b[0m\u001b[1;33m\u001b[0m\u001b[0m\n\u001b[0;32m    129\u001b[0m                                                                                              list(top_dict_copy.keys()))\n",
      "\u001b[1;31mKeyError\u001b[0m: 'distributions'"
     ]
    }
   ],
   "source": [
    "disease = 'copd'\n",
    "mef.write_new_folder('diabetes',disease,'test',2,'test_m')"
   ]
  }
 ],
 "metadata": {
  "kernelspec": {
   "display_name": "Python 3",
   "language": "python",
   "name": "python3"
  },
  "language_info": {
   "codemirror_mode": {
    "name": "ipython",
    "version": 3
   },
   "file_extension": ".py",
   "mimetype": "text/x-python",
   "name": "python",
   "nbconvert_exporter": "python",
   "pygments_lexer": "ipython3",
   "version": "3.7.7"
  }
 },
 "nbformat": 4,
 "nbformat_minor": 1
}
