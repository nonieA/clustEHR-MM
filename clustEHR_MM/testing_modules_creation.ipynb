{
 "cells": [
  {
   "cell_type": "code",
   "execution_count": 1,
   "metadata": {},
   "outputs": [],
   "source": [
    "import pandas as pd\n",
    "import json\n",
    "import os\n",
    "import importlib\n",
    "import re"
   ]
  },
  {
   "cell_type": "code",
   "execution_count": 2,
   "metadata": {},
   "outputs": [],
   "source": [
    "os.chdir('..')"
   ]
  },
  {
   "cell_type": "code",
   "execution_count": 27,
   "metadata": {},
   "outputs": [],
   "source": [
    "import clustEHR_MM.module_edit_functions as mef\n",
    "import clustEHR_MM.synthea_functions as sf\n",
    "import clustEHR_MM.test_functions as tf"
   ]
  },
  {
   "cell_type": "code",
   "execution_count": 4,
   "metadata": {},
   "outputs": [],
   "source": [
    "def test_module_maker(disease):\n",
    "    try:\n",
    "        mef.write_new_folder('diabetes',disease,'test/module_test',2,'test_m')\n",
    "    except:\n",
    "        return disease"
   ]
  },
  {
   "cell_type": "code",
   "execution_count": 5,
   "metadata": {},
   "outputs": [],
   "source": [
    "def test_disease(disease_a,disease_b,addition,pop,module_out,csv_out):\n",
    "    print(disease_a)\n",
    "    print(disease_b)\n",
    "    try: \n",
    "        sf.run_function(\n",
    "            disease_a,\n",
    "            disease_b,\n",
    "            'test/' + module_out,\n",
    "            csv_out = 'test/'+ csv_out + '/' + disease_a + disease_b ,\n",
    "            addition = addition,\n",
    "            pop =pop,\n",
    "            seed = 4,\n",
    "            mult = 2,\n",
    "            test = True\n",
    "        )\n",
    "    except:\n",
    "        return 'shit broke' "
   ]
  },
  {
   "cell_type": "code",
   "execution_count": 6,
   "metadata": {},
   "outputs": [],
   "source": [
    "def disease_name(disease_a,disease_b,addition,pop,module_out,csv_out):\n",
    "    sf.run_function(\n",
    "            disease_a,\n",
    "            disease_b,\n",
    "            'test/' + module_out,\n",
    "            csv_out = 'test/'+ csv_out + '/' + disease_a + disease_b ,\n",
    "            addition = addition,\n",
    "            pop =pop,\n",
    "            seed = 4,\n",
    "            mult = 2,\n",
    "            test = True\n",
    "        )\n",
    "    return sf.get_counts(disease_a,'Stomatitis','test/'+ csv_out + '/' + disease_a + disease_b ,cond_dict)"
   ]
  },
  {
   "cell_type": "code",
   "execution_count": 7,
   "metadata": {
    "pycharm": {
     "name": "#%%\n"
    }
   },
   "outputs": [],
   "source": [
    "modules = os.listdir('modules/module_bases')"
   ]
  },
  {
   "cell_type": "code",
   "execution_count": 8,
   "metadata": {},
   "outputs": [],
   "source": [
    "with open('data/processed/disease_conditions.json') as gf:\n",
    "        cond_dict = json.load(gf)"
   ]
  },
  {
   "cell_type": "code",
   "execution_count": 9,
   "metadata": {
    "pycharm": {
     "name": "#%%\n"
    }
   },
   "outputs": [],
   "source": [
    "broken_modules = [test_module_maker(i) for i in modules]"
   ]
  },
  {
   "cell_type": "code",
   "execution_count": 10,
   "metadata": {
    "pycharm": {
     "name": "#%%\n"
    }
   },
   "outputs": [],
   "source": [
    "broken_modules = [i for i in broken_modules if isinstance(i,str)]\n"
   ]
  },
  {
   "cell_type": "code",
   "execution_count": 11,
   "metadata": {
    "pycharm": {
     "name": "#%%\n"
    }
   },
   "outputs": [
    {
     "name": "stdout",
     "output_type": "stream",
     "text": [
      "0\n"
     ]
    },
    {
     "data": {
      "text/plain": [
       "[]"
      ]
     },
     "execution_count": 11,
     "metadata": {},
     "output_type": "execute_result"
    }
   ],
   "source": [
    "print(len(broken_modules))\n",
    "broken_modules"
   ]
  },
  {
   "cell_type": "code",
   "execution_count": null,
   "metadata": {
    "scrolled": true
   },
   "outputs": [],
   "source": [
    "test_disease_b = {i:test_disease('diabetes',i,'test_new',500,'test_new_mod','test_new_csv') for i in modules}"
   ]
  },
  {
   "cell_type": "code",
   "execution_count": null,
   "metadata": {},
   "outputs": [],
   "source": [
    "test_b_results = {i:sf.get_counts('Diabetes','Stomatitis','test/test_new_csv/' +'Diabetes'+ i,cond_dict) for i in modules}"
   ]
  },
  {
   "cell_type": "code",
   "execution_count": null,
   "metadata": {},
   "outputs": [],
   "source": [
    "test_b_results"
   ]
  },
  {
   "cell_type": "code",
   "execution_count": null,
   "metadata": {},
   "outputs": [],
   "source": [
    "bad_diseases = os.listdir('test/test2')\n",
    "bad_diseases = [i for i in bad_diseases if 'new_test' not in i]\n",
    "bad_data ={i:sf.get_counts('Diabetes','Stomatitis','test/test2/' + i,cond_dict) for i in bad_diseases}"
   ]
  },
  {
   "cell_type": "code",
   "execution_count": null,
   "metadata": {},
   "outputs": [],
   "source": [
    "bad_diseases"
   ]
  },
  {
   "cell_type": "code",
   "execution_count": null,
   "metadata": {},
   "outputs": [],
   "source": [
    "bad_data\n",
    "bad_data_list = [k for k,v in bad_data.items() if v == 'no stomatitis']\n",
    "bad_data_list"
   ]
  },
  {
   "cell_type": "code",
   "execution_count": null,
   "metadata": {},
   "outputs": [],
   "source": [
    "bad_data_list2 = [k for k,v in test_b_results.items() if v == 'no stomatitis']\n",
    "bad_merge = [i for i in bad_data_list2 if i in bad_data_list]\n",
    "print(bad_data_list2)\n",
    "print(bad_merge)"
   ]
  },
  {
   "cell_type": "code",
   "execution_count": null,
   "metadata": {},
   "outputs": [],
   "source": [
    "test_disease_modules = [mef.write_new_folder(i,'gout','test/test2/modules',2,addition = 'disease_a_test' + i,test =True) for i in modules]"
   ]
  },
  {
   "cell_type": "code",
   "execution_count": 13,
   "metadata": {
    "pycharm": {
     "name": "#%%\n"
    }
   },
   "outputs": [
    {
     "name": "stdout",
     "output_type": "stream",
     "text": [
      "allergic_rhinitis\n",
      "gout\n",
      "appendicitis\n",
      "gout\n",
      "asthma\n",
      "gout\n",
      "attention_deficit_disorder\n",
      "gout\n",
      "breast_cancer\n",
      "gout\n",
      "bronchitis\n",
      "gout\n",
      "cerebral_palsy\n",
      "gout\n",
      "colorectal_cancer\n",
      "gout\n",
      "congestive_heart_failure\n",
      "gout\n",
      "copd\n",
      "gout\n",
      "cystic_fibrosis\n",
      "gout\n",
      "dementia\n",
      "gout\n",
      "dermatitis\n",
      "gout\n",
      "ear_infections\n",
      "gout\n",
      "epilepsy\n",
      "gout\n",
      "fibromyalgia\n",
      "gout\n",
      "gallstones\n",
      "gout\n",
      "gout\n",
      "gout\n",
      "hypothyroidism\n",
      "gout\n",
      "lung_cancer\n",
      "gout\n",
      "opioid_addiction\n",
      "gout\n",
      "rheumatoid_arthritis\n",
      "gout\n",
      "sinusitis\n",
      "gout\n",
      "sore_throat\n",
      "gout\n",
      "spina_bifida\n",
      "gout\n",
      "urinary_tract_infections\n",
      "gout\n"
     ]
    }
   ],
   "source": [
    "test_disease_a = {i:test_disease(i,'gout','disease_a_test' + i,pop = 500,module_out = 'modules_a',csv_out ='csv_a') for i in modules}"
   ]
  },
  {
   "cell_type": "code",
   "execution_count": 15,
   "metadata": {},
   "outputs": [
    {
     "data": {
      "text/plain": [
       "['appendicitis',\n",
       " 'asthma',\n",
       " 'attention_deficit_disorder',\n",
       " 'breast_cancer',\n",
       " 'bronchitis',\n",
       " 'colorectal_cancer',\n",
       " 'congestive_heart_failure',\n",
       " 'copd',\n",
       " 'cystic_fibrosis',\n",
       " 'dermatitis',\n",
       " 'ear_infections',\n",
       " 'epilepsy',\n",
       " 'fibromyalgia',\n",
       " 'gallstones',\n",
       " 'gout',\n",
       " 'hypothyroidism',\n",
       " 'lung_cancer',\n",
       " 'sore_throat',\n",
       " 'urinary_tract_infections']"
      ]
     },
     "execution_count": 15,
     "metadata": {},
     "output_type": "execute_result"
    }
   ],
   "source": [
    "modules_working = [k for k,v in test_disease_a.items() if v != 'shit broke']\n",
    "modules_working"
   ]
  },
  {
   "cell_type": "code",
   "execution_count": 17,
   "metadata": {},
   "outputs": [
    {
     "name": "stderr",
     "output_type": "stream",
     "text": [
      "C:\\Users\\nonie\\Documents\\clustEHR-MM\\clustEHR_MM\\synthea_functions.py:53: SettingWithCopyWarning: \n",
      "A value is trying to be set on a copy of a slice from a DataFrame.\n",
      "Try using .loc[row_indexer,col_indexer] = value instead\n",
      "\n",
      "See the caveats in the documentation: https://pandas.pydata.org/pandas-docs/stable/user_guide/indexing.html#returning-a-view-versus-a-copy\n",
      "  lambda x: disease_a if x in cond_dict[disease_a] else x)\n",
      "C:\\Users\\nonie\\Documents\\clustEHR-MM\\clustEHR_MM\\synthea_functions.py:55: SettingWithCopyWarning: \n",
      "A value is trying to be set on a copy of a slice from a DataFrame.\n",
      "Try using .loc[row_indexer,col_indexer] = value instead\n",
      "\n",
      "See the caveats in the documentation: https://pandas.pydata.org/pandas-docs/stable/user_guide/indexing.html#returning-a-view-versus-a-copy\n",
      "  conditions2['value'] = 1\n",
      "C:\\Users\\nonie\\Documents\\clustEHR-MM\\clustEHR_MM\\synthea_functions.py:53: SettingWithCopyWarning: \n",
      "A value is trying to be set on a copy of a slice from a DataFrame.\n",
      "Try using .loc[row_indexer,col_indexer] = value instead\n",
      "\n",
      "See the caveats in the documentation: https://pandas.pydata.org/pandas-docs/stable/user_guide/indexing.html#returning-a-view-versus-a-copy\n",
      "  lambda x: disease_a if x in cond_dict[disease_a] else x)\n",
      "C:\\Users\\nonie\\Documents\\clustEHR-MM\\clustEHR_MM\\synthea_functions.py:55: SettingWithCopyWarning: \n",
      "A value is trying to be set on a copy of a slice from a DataFrame.\n",
      "Try using .loc[row_indexer,col_indexer] = value instead\n",
      "\n",
      "See the caveats in the documentation: https://pandas.pydata.org/pandas-docs/stable/user_guide/indexing.html#returning-a-view-versus-a-copy\n",
      "  conditions2['value'] = 1\n",
      "C:\\Users\\nonie\\Documents\\clustEHR-MM\\clustEHR_MM\\synthea_functions.py:53: SettingWithCopyWarning: \n",
      "A value is trying to be set on a copy of a slice from a DataFrame.\n",
      "Try using .loc[row_indexer,col_indexer] = value instead\n",
      "\n",
      "See the caveats in the documentation: https://pandas.pydata.org/pandas-docs/stable/user_guide/indexing.html#returning-a-view-versus-a-copy\n",
      "  lambda x: disease_a if x in cond_dict[disease_a] else x)\n",
      "C:\\Users\\nonie\\Documents\\clustEHR-MM\\clustEHR_MM\\synthea_functions.py:55: SettingWithCopyWarning: \n",
      "A value is trying to be set on a copy of a slice from a DataFrame.\n",
      "Try using .loc[row_indexer,col_indexer] = value instead\n",
      "\n",
      "See the caveats in the documentation: https://pandas.pydata.org/pandas-docs/stable/user_guide/indexing.html#returning-a-view-versus-a-copy\n",
      "  conditions2['value'] = 1\n",
      "C:\\Users\\nonie\\Documents\\clustEHR-MM\\clustEHR_MM\\synthea_functions.py:53: SettingWithCopyWarning: \n",
      "A value is trying to be set on a copy of a slice from a DataFrame.\n",
      "Try using .loc[row_indexer,col_indexer] = value instead\n",
      "\n",
      "See the caveats in the documentation: https://pandas.pydata.org/pandas-docs/stable/user_guide/indexing.html#returning-a-view-versus-a-copy\n",
      "  lambda x: disease_a if x in cond_dict[disease_a] else x)\n",
      "C:\\Users\\nonie\\Documents\\clustEHR-MM\\clustEHR_MM\\synthea_functions.py:55: SettingWithCopyWarning: \n",
      "A value is trying to be set on a copy of a slice from a DataFrame.\n",
      "Try using .loc[row_indexer,col_indexer] = value instead\n",
      "\n",
      "See the caveats in the documentation: https://pandas.pydata.org/pandas-docs/stable/user_guide/indexing.html#returning-a-view-versus-a-copy\n",
      "  conditions2['value'] = 1\n",
      "C:\\Users\\nonie\\Documents\\clustEHR-MM\\clustEHR_MM\\synthea_functions.py:53: SettingWithCopyWarning: \n",
      "A value is trying to be set on a copy of a slice from a DataFrame.\n",
      "Try using .loc[row_indexer,col_indexer] = value instead\n",
      "\n",
      "See the caveats in the documentation: https://pandas.pydata.org/pandas-docs/stable/user_guide/indexing.html#returning-a-view-versus-a-copy\n",
      "  lambda x: disease_a if x in cond_dict[disease_a] else x)\n",
      "C:\\Users\\nonie\\Documents\\clustEHR-MM\\clustEHR_MM\\synthea_functions.py:55: SettingWithCopyWarning: \n",
      "A value is trying to be set on a copy of a slice from a DataFrame.\n",
      "Try using .loc[row_indexer,col_indexer] = value instead\n",
      "\n",
      "See the caveats in the documentation: https://pandas.pydata.org/pandas-docs/stable/user_guide/indexing.html#returning-a-view-versus-a-copy\n",
      "  conditions2['value'] = 1\n",
      "C:\\Users\\nonie\\Documents\\clustEHR-MM\\clustEHR_MM\\synthea_functions.py:53: SettingWithCopyWarning: \n",
      "A value is trying to be set on a copy of a slice from a DataFrame.\n",
      "Try using .loc[row_indexer,col_indexer] = value instead\n",
      "\n",
      "See the caveats in the documentation: https://pandas.pydata.org/pandas-docs/stable/user_guide/indexing.html#returning-a-view-versus-a-copy\n",
      "  lambda x: disease_a if x in cond_dict[disease_a] else x)\n",
      "C:\\Users\\nonie\\Documents\\clustEHR-MM\\clustEHR_MM\\synthea_functions.py:55: SettingWithCopyWarning: \n",
      "A value is trying to be set on a copy of a slice from a DataFrame.\n",
      "Try using .loc[row_indexer,col_indexer] = value instead\n",
      "\n",
      "See the caveats in the documentation: https://pandas.pydata.org/pandas-docs/stable/user_guide/indexing.html#returning-a-view-versus-a-copy\n",
      "  conditions2['value'] = 1\n",
      "C:\\Users\\nonie\\Documents\\clustEHR-MM\\clustEHR_MM\\synthea_functions.py:53: SettingWithCopyWarning: \n",
      "A value is trying to be set on a copy of a slice from a DataFrame.\n",
      "Try using .loc[row_indexer,col_indexer] = value instead\n",
      "\n",
      "See the caveats in the documentation: https://pandas.pydata.org/pandas-docs/stable/user_guide/indexing.html#returning-a-view-versus-a-copy\n",
      "  lambda x: disease_a if x in cond_dict[disease_a] else x)\n",
      "C:\\Users\\nonie\\Documents\\clustEHR-MM\\clustEHR_MM\\synthea_functions.py:55: SettingWithCopyWarning: \n",
      "A value is trying to be set on a copy of a slice from a DataFrame.\n",
      "Try using .loc[row_indexer,col_indexer] = value instead\n",
      "\n",
      "See the caveats in the documentation: https://pandas.pydata.org/pandas-docs/stable/user_guide/indexing.html#returning-a-view-versus-a-copy\n",
      "  conditions2['value'] = 1\n",
      "C:\\Users\\nonie\\Documents\\clustEHR-MM\\clustEHR_MM\\synthea_functions.py:53: SettingWithCopyWarning: \n",
      "A value is trying to be set on a copy of a slice from a DataFrame.\n",
      "Try using .loc[row_indexer,col_indexer] = value instead\n",
      "\n",
      "See the caveats in the documentation: https://pandas.pydata.org/pandas-docs/stable/user_guide/indexing.html#returning-a-view-versus-a-copy\n",
      "  lambda x: disease_a if x in cond_dict[disease_a] else x)\n",
      "C:\\Users\\nonie\\Documents\\clustEHR-MM\\clustEHR_MM\\synthea_functions.py:55: SettingWithCopyWarning: \n",
      "A value is trying to be set on a copy of a slice from a DataFrame.\n",
      "Try using .loc[row_indexer,col_indexer] = value instead\n",
      "\n",
      "See the caveats in the documentation: https://pandas.pydata.org/pandas-docs/stable/user_guide/indexing.html#returning-a-view-versus-a-copy\n",
      "  conditions2['value'] = 1\n",
      "C:\\Users\\nonie\\Documents\\clustEHR-MM\\clustEHR_MM\\synthea_functions.py:53: SettingWithCopyWarning: \n",
      "A value is trying to be set on a copy of a slice from a DataFrame.\n",
      "Try using .loc[row_indexer,col_indexer] = value instead\n",
      "\n",
      "See the caveats in the documentation: https://pandas.pydata.org/pandas-docs/stable/user_guide/indexing.html#returning-a-view-versus-a-copy\n",
      "  lambda x: disease_a if x in cond_dict[disease_a] else x)\n",
      "C:\\Users\\nonie\\Documents\\clustEHR-MM\\clustEHR_MM\\synthea_functions.py:55: SettingWithCopyWarning: \n",
      "A value is trying to be set on a copy of a slice from a DataFrame.\n",
      "Try using .loc[row_indexer,col_indexer] = value instead\n",
      "\n",
      "See the caveats in the documentation: https://pandas.pydata.org/pandas-docs/stable/user_guide/indexing.html#returning-a-view-versus-a-copy\n",
      "  conditions2['value'] = 1\n",
      "C:\\Users\\nonie\\Documents\\clustEHR-MM\\clustEHR_MM\\synthea_functions.py:53: SettingWithCopyWarning: \n",
      "A value is trying to be set on a copy of a slice from a DataFrame.\n",
      "Try using .loc[row_indexer,col_indexer] = value instead\n",
      "\n",
      "See the caveats in the documentation: https://pandas.pydata.org/pandas-docs/stable/user_guide/indexing.html#returning-a-view-versus-a-copy\n",
      "  lambda x: disease_a if x in cond_dict[disease_a] else x)\n",
      "C:\\Users\\nonie\\Documents\\clustEHR-MM\\clustEHR_MM\\synthea_functions.py:55: SettingWithCopyWarning: \n",
      "A value is trying to be set on a copy of a slice from a DataFrame.\n",
      "Try using .loc[row_indexer,col_indexer] = value instead\n",
      "\n",
      "See the caveats in the documentation: https://pandas.pydata.org/pandas-docs/stable/user_guide/indexing.html#returning-a-view-versus-a-copy\n",
      "  conditions2['value'] = 1\n",
      "C:\\Users\\nonie\\Documents\\clustEHR-MM\\clustEHR_MM\\synthea_functions.py:53: SettingWithCopyWarning: \n",
      "A value is trying to be set on a copy of a slice from a DataFrame.\n",
      "Try using .loc[row_indexer,col_indexer] = value instead\n",
      "\n",
      "See the caveats in the documentation: https://pandas.pydata.org/pandas-docs/stable/user_guide/indexing.html#returning-a-view-versus-a-copy\n",
      "  lambda x: disease_a if x in cond_dict[disease_a] else x)\n",
      "C:\\Users\\nonie\\Documents\\clustEHR-MM\\clustEHR_MM\\synthea_functions.py:55: SettingWithCopyWarning: \n",
      "A value is trying to be set on a copy of a slice from a DataFrame.\n",
      "Try using .loc[row_indexer,col_indexer] = value instead\n",
      "\n",
      "See the caveats in the documentation: https://pandas.pydata.org/pandas-docs/stable/user_guide/indexing.html#returning-a-view-versus-a-copy\n",
      "  conditions2['value'] = 1\n",
      "C:\\Users\\nonie\\Documents\\clustEHR-MM\\clustEHR_MM\\synthea_functions.py:53: SettingWithCopyWarning: \n",
      "A value is trying to be set on a copy of a slice from a DataFrame.\n",
      "Try using .loc[row_indexer,col_indexer] = value instead\n",
      "\n",
      "See the caveats in the documentation: https://pandas.pydata.org/pandas-docs/stable/user_guide/indexing.html#returning-a-view-versus-a-copy\n",
      "  lambda x: disease_a if x in cond_dict[disease_a] else x)\n"
     ]
    },
    {
     "name": "stderr",
     "output_type": "stream",
     "text": [
      "C:\\Users\\nonie\\Documents\\clustEHR-MM\\clustEHR_MM\\synthea_functions.py:55: SettingWithCopyWarning: \n",
      "A value is trying to be set on a copy of a slice from a DataFrame.\n",
      "Try using .loc[row_indexer,col_indexer] = value instead\n",
      "\n",
      "See the caveats in the documentation: https://pandas.pydata.org/pandas-docs/stable/user_guide/indexing.html#returning-a-view-versus-a-copy\n",
      "  conditions2['value'] = 1\n",
      "C:\\Users\\nonie\\Documents\\clustEHR-MM\\clustEHR_MM\\synthea_functions.py:53: SettingWithCopyWarning: \n",
      "A value is trying to be set on a copy of a slice from a DataFrame.\n",
      "Try using .loc[row_indexer,col_indexer] = value instead\n",
      "\n",
      "See the caveats in the documentation: https://pandas.pydata.org/pandas-docs/stable/user_guide/indexing.html#returning-a-view-versus-a-copy\n",
      "  lambda x: disease_a if x in cond_dict[disease_a] else x)\n",
      "C:\\Users\\nonie\\Documents\\clustEHR-MM\\clustEHR_MM\\synthea_functions.py:55: SettingWithCopyWarning: \n",
      "A value is trying to be set on a copy of a slice from a DataFrame.\n",
      "Try using .loc[row_indexer,col_indexer] = value instead\n",
      "\n",
      "See the caveats in the documentation: https://pandas.pydata.org/pandas-docs/stable/user_guide/indexing.html#returning-a-view-versus-a-copy\n",
      "  conditions2['value'] = 1\n",
      "C:\\Users\\nonie\\Documents\\clustEHR-MM\\clustEHR_MM\\synthea_functions.py:53: SettingWithCopyWarning: \n",
      "A value is trying to be set on a copy of a slice from a DataFrame.\n",
      "Try using .loc[row_indexer,col_indexer] = value instead\n",
      "\n",
      "See the caveats in the documentation: https://pandas.pydata.org/pandas-docs/stable/user_guide/indexing.html#returning-a-view-versus-a-copy\n",
      "  lambda x: disease_a if x in cond_dict[disease_a] else x)\n",
      "C:\\Users\\nonie\\Documents\\clustEHR-MM\\clustEHR_MM\\synthea_functions.py:55: SettingWithCopyWarning: \n",
      "A value is trying to be set on a copy of a slice from a DataFrame.\n",
      "Try using .loc[row_indexer,col_indexer] = value instead\n",
      "\n",
      "See the caveats in the documentation: https://pandas.pydata.org/pandas-docs/stable/user_guide/indexing.html#returning-a-view-versus-a-copy\n",
      "  conditions2['value'] = 1\n",
      "C:\\Users\\nonie\\Documents\\clustEHR-MM\\clustEHR_MM\\synthea_functions.py:53: SettingWithCopyWarning: \n",
      "A value is trying to be set on a copy of a slice from a DataFrame.\n",
      "Try using .loc[row_indexer,col_indexer] = value instead\n",
      "\n",
      "See the caveats in the documentation: https://pandas.pydata.org/pandas-docs/stable/user_guide/indexing.html#returning-a-view-versus-a-copy\n",
      "  lambda x: disease_a if x in cond_dict[disease_a] else x)\n",
      "C:\\Users\\nonie\\Documents\\clustEHR-MM\\clustEHR_MM\\synthea_functions.py:55: SettingWithCopyWarning: \n",
      "A value is trying to be set on a copy of a slice from a DataFrame.\n",
      "Try using .loc[row_indexer,col_indexer] = value instead\n",
      "\n",
      "See the caveats in the documentation: https://pandas.pydata.org/pandas-docs/stable/user_guide/indexing.html#returning-a-view-versus-a-copy\n",
      "  conditions2['value'] = 1\n",
      "C:\\Users\\nonie\\Documents\\clustEHR-MM\\clustEHR_MM\\synthea_functions.py:53: SettingWithCopyWarning: \n",
      "A value is trying to be set on a copy of a slice from a DataFrame.\n",
      "Try using .loc[row_indexer,col_indexer] = value instead\n",
      "\n",
      "See the caveats in the documentation: https://pandas.pydata.org/pandas-docs/stable/user_guide/indexing.html#returning-a-view-versus-a-copy\n",
      "  lambda x: disease_a if x in cond_dict[disease_a] else x)\n",
      "C:\\Users\\nonie\\Documents\\clustEHR-MM\\clustEHR_MM\\synthea_functions.py:55: SettingWithCopyWarning: \n",
      "A value is trying to be set on a copy of a slice from a DataFrame.\n",
      "Try using .loc[row_indexer,col_indexer] = value instead\n",
      "\n",
      "See the caveats in the documentation: https://pandas.pydata.org/pandas-docs/stable/user_guide/indexing.html#returning-a-view-versus-a-copy\n",
      "  conditions2['value'] = 1\n",
      "C:\\Users\\nonie\\Documents\\clustEHR-MM\\clustEHR_MM\\synthea_functions.py:53: SettingWithCopyWarning: \n",
      "A value is trying to be set on a copy of a slice from a DataFrame.\n",
      "Try using .loc[row_indexer,col_indexer] = value instead\n",
      "\n",
      "See the caveats in the documentation: https://pandas.pydata.org/pandas-docs/stable/user_guide/indexing.html#returning-a-view-versus-a-copy\n",
      "  lambda x: disease_a if x in cond_dict[disease_a] else x)\n",
      "C:\\Users\\nonie\\Documents\\clustEHR-MM\\clustEHR_MM\\synthea_functions.py:55: SettingWithCopyWarning: \n",
      "A value is trying to be set on a copy of a slice from a DataFrame.\n",
      "Try using .loc[row_indexer,col_indexer] = value instead\n",
      "\n",
      "See the caveats in the documentation: https://pandas.pydata.org/pandas-docs/stable/user_guide/indexing.html#returning-a-view-versus-a-copy\n",
      "  conditions2['value'] = 1\n",
      "C:\\Users\\nonie\\Documents\\clustEHR-MM\\clustEHR_MM\\synthea_functions.py:53: SettingWithCopyWarning: \n",
      "A value is trying to be set on a copy of a slice from a DataFrame.\n",
      "Try using .loc[row_indexer,col_indexer] = value instead\n",
      "\n",
      "See the caveats in the documentation: https://pandas.pydata.org/pandas-docs/stable/user_guide/indexing.html#returning-a-view-versus-a-copy\n",
      "  lambda x: disease_a if x in cond_dict[disease_a] else x)\n",
      "C:\\Users\\nonie\\Documents\\clustEHR-MM\\clustEHR_MM\\synthea_functions.py:55: SettingWithCopyWarning: \n",
      "A value is trying to be set on a copy of a slice from a DataFrame.\n",
      "Try using .loc[row_indexer,col_indexer] = value instead\n",
      "\n",
      "See the caveats in the documentation: https://pandas.pydata.org/pandas-docs/stable/user_guide/indexing.html#returning-a-view-versus-a-copy\n",
      "  conditions2['value'] = 1\n",
      "C:\\Users\\nonie\\Documents\\clustEHR-MM\\clustEHR_MM\\synthea_functions.py:53: SettingWithCopyWarning: \n",
      "A value is trying to be set on a copy of a slice from a DataFrame.\n",
      "Try using .loc[row_indexer,col_indexer] = value instead\n",
      "\n",
      "See the caveats in the documentation: https://pandas.pydata.org/pandas-docs/stable/user_guide/indexing.html#returning-a-view-versus-a-copy\n",
      "  lambda x: disease_a if x in cond_dict[disease_a] else x)\n",
      "C:\\Users\\nonie\\Documents\\clustEHR-MM\\clustEHR_MM\\synthea_functions.py:55: SettingWithCopyWarning: \n",
      "A value is trying to be set on a copy of a slice from a DataFrame.\n",
      "Try using .loc[row_indexer,col_indexer] = value instead\n",
      "\n",
      "See the caveats in the documentation: https://pandas.pydata.org/pandas-docs/stable/user_guide/indexing.html#returning-a-view-versus-a-copy\n",
      "  conditions2['value'] = 1\n"
     ]
    }
   ],
   "source": [
    "test_a_res = {i:sf.get_counts(i,'Stomatitis','test/csv/' + i +'gout',cond_dict) for i in modules_working}"
   ]
  },
  {
   "cell_type": "code",
   "execution_count": 14,
   "metadata": {},
   "outputs": [
    {
     "data": {
      "text/plain": [
       "{'allergic_rhinitis': 'shit broke',\n",
       " 'appendicitis': None,\n",
       " 'asthma': None,\n",
       " 'attention_deficit_disorder': None,\n",
       " 'breast_cancer': None,\n",
       " 'bronchitis': None,\n",
       " 'cerebral_palsy': 'shit broke',\n",
       " 'colorectal_cancer': None,\n",
       " 'congestive_heart_failure': None,\n",
       " 'copd': None,\n",
       " 'cystic_fibrosis': None,\n",
       " 'dementia': 'shit broke',\n",
       " 'dermatitis': None,\n",
       " 'ear_infections': None,\n",
       " 'epilepsy': None,\n",
       " 'fibromyalgia': None,\n",
       " 'gallstones': None,\n",
       " 'gout': None,\n",
       " 'hypothyroidism': None,\n",
       " 'lung_cancer': None,\n",
       " 'opioid_addiction': 'shit broke',\n",
       " 'rheumatoid_arthritis': 'shit broke',\n",
       " 'sinusitis': 'shit broke',\n",
       " 'sore_throat': None,\n",
       " 'spina_bifida': 'shit broke',\n",
       " 'urinary_tract_infections': None}"
      ]
     },
     "execution_count": 14,
     "metadata": {},
     "output_type": "execute_result"
    }
   ],
   "source": [
    "test_disease_a"
   ]
  },
  {
   "cell_type": "code",
   "execution_count": 18,
   "metadata": {},
   "outputs": [
    {
     "data": {
      "text/plain": [
       "{'appendicitis': {'Stomatitis_no_appendicitis': 0,\n",
       "  'Stomatitis_and_appendicitis': 0,\n",
       "  'just_appendicitis': 0},\n",
       " 'asthma': {'Stomatitis_no_asthma': 25,\n",
       "  'Stomatitis_and_asthma': 9,\n",
       "  'just_asthma': 9},\n",
       " 'attention_deficit_disorder': {'Stomatitis_no_attention_deficit_disorder': 0,\n",
       "  'Stomatitis_and_attention_deficit_disorder': 0,\n",
       "  'just_attention_deficit_disorder': 6},\n",
       " 'breast_cancer': {'Stomatitis_no_breast_cancer': 0,\n",
       "  'Stomatitis_and_breast_cancer': 26,\n",
       "  'just_breast_cancer': 26},\n",
       " 'bronchitis': {'Stomatitis_no_bronchitis': 0,\n",
       "  'Stomatitis_and_bronchitis': 0,\n",
       "  'just_bronchitis': 281},\n",
       " 'colorectal_cancer': {'Stomatitis_no_colorectal_cancer': 0,\n",
       "  'Stomatitis_and_colorectal_cancer': 9,\n",
       "  'just_colorectal_cancer': 69},\n",
       " 'congestive_heart_failure': {'Stomatitis_no_congestive_heart_failure': 0,\n",
       "  'Stomatitis_and_congestive_heart_failure': 0,\n",
       "  'just_congestive_heart_failure': 8},\n",
       " 'copd': {'Stomatitis_no_copd': 0, 'Stomatitis_and_copd': 0, 'just_copd': 51},\n",
       " 'cystic_fibrosis': {'Stomatitis_no_cystic_fibrosis': 0,\n",
       "  'Stomatitis_and_cystic_fibrosis': 0,\n",
       "  'just_cystic_fibrosis': 0},\n",
       " 'dermatitis': {'Stomatitis_no_dermatitis': 0,\n",
       "  'Stomatitis_and_dermatitis': 0,\n",
       "  'just_dermatitis': 15},\n",
       " 'ear_infections': {'Stomatitis_no_ear_infections': 0,\n",
       "  'Stomatitis_and_ear_infections': 0,\n",
       "  'just_ear_infections': 23},\n",
       " 'epilepsy': {'Stomatitis_no_epilepsy': 0,\n",
       "  'Stomatitis_and_epilepsy': 0,\n",
       "  'just_epilepsy': 0},\n",
       " 'fibromyalgia': {'Stomatitis_no_fibromyalgia': 0,\n",
       "  'Stomatitis_and_fibromyalgia': 0,\n",
       "  'just_fibromyalgia': 4},\n",
       " 'gallstones': {'Stomatitis_no_gallstones': 0,\n",
       "  'Stomatitis_and_gallstones': 0,\n",
       "  'just_gallstones': 0},\n",
       " 'gout': {'Stomatitis_no_gout': 0, 'Stomatitis_and_gout': 0, 'just_gout': 0},\n",
       " 'hypothyroidism': {'Stomatitis_no_hypothyroidism': 0,\n",
       "  'Stomatitis_and_hypothyroidism': 0,\n",
       "  'just_hypothyroidism': 9},\n",
       " 'lung_cancer': {'Stomatitis_no_lung_cancer': 0,\n",
       "  'Stomatitis_and_lung_cancer': 6,\n",
       "  'just_lung_cancer': 6},\n",
       " 'sore_throat': {'Stomatitis_no_sore_throat': 383,\n",
       "  'Stomatitis_and_sore_throat': 283,\n",
       "  'just_sore_throat': 284},\n",
       " 'urinary_tract_infections': {'Stomatitis_no_urinary_tract_infections': 0,\n",
       "  'Stomatitis_and_urinary_tract_infections': 0,\n",
       "  'just_urinary_tract_infections': 30}}"
      ]
     },
     "execution_count": 18,
     "metadata": {},
     "output_type": "execute_result"
    }
   ],
   "source": [
    "test_a_res"
   ]
  },
  {
   "cell_type": "code",
   "execution_count": 19,
   "metadata": {},
   "outputs": [
    {
     "name": "stdout",
     "output_type": "stream",
     "text": [
      "['appendicitis', 'cystic_fibrosis', 'epilepsy', 'gallstones', 'gout']\n",
      "['breast_cancer', 'lung_cancer']\n",
      "['asthma', 'attention_deficit_disorder', 'bronchitis', 'colorectal_cancer', 'congestive_heart_failure', 'copd', 'dermatitis', 'ear_infections', 'fibromyalgia', 'hypothyroidism', 'sore_throat', 'urinary_tract_infections']\n"
     ]
    }
   ],
   "source": [
    "more_pop = [k for k,v in test_a_res.items() if v['just_' + k] == 0]\n",
    "worked = [k for k,v in test_a_res.items() if (abs(v['just_' + k] - v['Stomatitis_and_'+ k]) < 4) and (v['Stomatitis_no_' + k] == 0) and (k not in more_pop)]\n",
    "messed_up = [i for i in test_a_res.keys() if i not in more_pop + worked]\n",
    "print(more_pop)\n",
    "print(worked)\n",
    "print(messed_up)"
   ]
  },
  {
   "cell_type": "code",
   "execution_count": 82,
   "metadata": {
    "scrolled": true
   },
   "outputs": [
    {
     "name": "stderr",
     "output_type": "stream",
     "text": [
      "C:\\Users\\nonie\\Documents\\clustEHR-MM\\clustEHR_MM\\synthea_functions.py:53: SettingWithCopyWarning: \n",
      "A value is trying to be set on a copy of a slice from a DataFrame.\n",
      "Try using .loc[row_indexer,col_indexer] = value instead\n",
      "\n",
      "See the caveats in the documentation: https://pandas.pydata.org/pandas-docs/stable/user_guide/indexing.html#returning-a-view-versus-a-copy\n",
      "  \n",
      "C:\\Users\\nonie\\Documents\\clustEHR-MM\\clustEHR_MM\\synthea_functions.py:55: SettingWithCopyWarning: \n",
      "A value is trying to be set on a copy of a slice from a DataFrame.\n",
      "Try using .loc[row_indexer,col_indexer] = value instead\n",
      "\n",
      "See the caveats in the documentation: https://pandas.pydata.org/pandas-docs/stable/user_guide/indexing.html#returning-a-view-versus-a-copy\n",
      "  lambda x: disease_a if x in cond_dict[disease_a] else x)\n"
     ]
    },
    {
     "data": {
      "text/plain": [
       "{'Stomatitis_no_bronchitis': 0,\n",
       " 'Stomatitis_and_bronchitis': 0,\n",
       " 'just_bronchitis': 0}"
      ]
     },
     "execution_count": 82,
     "metadata": {},
     "output_type": "execute_result"
    }
   ],
   "source": [
    "tf.test_attribute(attribute = 'OTC_Bronchitis_Med',\n",
    "                  logic = 'Respiratory therapy',\n",
    "                  pop = 500,\n",
    "                  disease_a = 'bronchitis',\n",
    "                  cond_dict = cond_dict,\n",
    "                  condition = None,\n",
    "                  ref_att = None\n",
    "                 )"
   ]
  },
  {
   "cell_type": "code",
   "execution_count": null,
   "metadata": {},
   "outputs": [],
   "source": [
    "importlib.reload(mef)"
   ]
  },
  {
   "cell_type": "code",
   "execution_count": 80,
   "metadata": {},
   "outputs": [
    {
     "data": {
      "text/plain": [
       "<module 'clustEHR_MM.test_functions' from 'C:\\\\Users\\\\nonie\\\\Documents\\\\clustEHR-MM\\\\clustEHR_MM\\\\test_functions.py'>"
      ]
     },
     "execution_count": 80,
     "metadata": {},
     "output_type": "execute_result"
    }
   ],
   "source": [
    "importlib.reload(tf)"
   ]
  },
  {
   "cell_type": "code",
   "execution_count": null,
   "metadata": {},
   "outputs": [],
   "source": [
    "importlib.reload(sf)"
   ]
  }
 ],
 "metadata": {
  "kernelspec": {
   "display_name": "Python 3",
   "language": "python",
   "name": "python3"
  },
  "language_info": {
   "codemirror_mode": {
    "name": "ipython",
    "version": 3
   },
   "file_extension": ".py",
   "mimetype": "text/x-python",
   "name": "python",
   "nbconvert_exporter": "python",
   "pygments_lexer": "ipython3",
   "version": "3.7.7"
  }
 },
 "nbformat": 4,
 "nbformat_minor": 1
}