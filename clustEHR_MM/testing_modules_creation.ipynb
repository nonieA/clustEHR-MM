{
 "cells": [
  {
   "cell_type": "code",
   "execution_count": 2,
   "metadata": {},
   "outputs": [],
   "source": [
    "import pandas as pd\n",
    "import json\n",
    "import os\n",
    "import importlib"
   ]
  },
  {
   "cell_type": "code",
   "execution_count": 3,
   "metadata": {},
   "outputs": [],
   "source": [
    "os.chdir('..')"
   ]
  },
  {
   "cell_type": "code",
   "execution_count": 4,
   "metadata": {},
   "outputs": [],
   "source": [
    "import clustEHR_MM.module_edit_functions as mef\n",
    "import clustEHR_MM.synthea_functions as sf"
   ]
  },
  {
   "cell_type": "code",
   "execution_count": 5,
   "metadata": {},
   "outputs": [],
   "source": [
    "def test_module_maker(disease):\n",
    "    try:\n",
    "        mef.write_new_folder('diabetes',disease,'test',2,'test_m')\n",
    "    except:\n",
    "        return disease"
   ]
  },
  {
   "cell_type": "code",
   "execution_count": 6,
   "metadata": {},
   "outputs": [],
   "source": [
    "def test_module_maker(disease):\n",
    "    try:\n",
    "        mef.write_new_folder('diabetes',disease,'test',2,'test_m')\n",
    "    except:\n",
    "        return disease"
   ]
  },
  {
   "cell_type": "code",
   "execution_count": 7,
   "metadata": {},
   "outputs": [],
   "source": [
    "def test_disease(disease_a,disease_b,addition):\n",
    "    print(disease_a)\n",
    "    print(disease_b)\n",
    "    try:\n",
    "        sf.run_function(disease_a,disease_b,'test/modules_test','test/csv_test',addition,2000,4,2,True)\n",
    "        return sf.get_counts(disease_a,'Stomatisis','test/csv_test',addition)\n",
    "        \n",
    "    except:\n",
    "        return 'shit broke' "
   ]
  },
  {
   "cell_type": "code",
   "execution_count": 9,
   "metadata": {
    "pycharm": {
     "name": "#%%\n"
    }
   },
   "outputs": [],
   "source": [
    "modules = os.listdir('modules/module_bases')"
   ]
  },
  {
   "cell_type": "code",
   "execution_count": 13,
   "metadata": {
    "pycharm": {
     "name": "#%%\n"
    }
   },
   "outputs": [],
   "source": [
    "broken_modules = [test_module_maker(i) for i in modules]"
   ]
  },
  {
   "cell_type": "code",
   "execution_count": 14,
   "metadata": {
    "pycharm": {
     "name": "#%%\n"
    }
   },
   "outputs": [],
   "source": [
    "broken_modules = [i for i in broken_modules if isinstance(i,str)]\n"
   ]
  },
  {
   "cell_type": "code",
   "execution_count": 15,
   "metadata": {
    "pycharm": {
     "name": "#%%\n"
    }
   },
   "outputs": [
    {
     "name": "stdout",
     "output_type": "stream",
     "text": [
      "0\n"
     ]
    },
    {
     "data": {
      "text/plain": [
       "[]"
      ]
     },
     "execution_count": 15,
     "metadata": {},
     "output_type": "execute_result"
    }
   ],
   "source": [
    "print(len(broken_modules))\n",
    "broken_modules"
   ]
  },
  {
   "cell_type": "code",
   "execution_count": 10,
   "metadata": {},
   "outputs": [
    {
     "name": "stdout",
     "output_type": "stream",
     "text": [
      "diabetes\n",
      "allergic_rhinitis\n",
      "diabetes\n",
      "appendicitis\n",
      "diabetes\n",
      "asthma\n",
      "diabetes\n",
      "attention_deficit_disorder\n",
      "diabetes\n",
      "breast_cancer\n",
      "diabetes\n",
      "bronchitis\n",
      "diabetes\n",
      "cerebral_palsy\n",
      "diabetes\n",
      "colorectal_cancer\n",
      "diabetes\n",
      "congestive_heart_failure\n",
      "diabetes\n",
      "copd\n",
      "diabetes\n",
      "cystic_fibrosis\n",
      "diabetes\n",
      "dementia\n",
      "diabetes\n",
      "dermatitis\n",
      "diabetes\n",
      "ear_infections\n",
      "diabetes\n",
      "epilepsy\n",
      "diabetes\n",
      "fibromyalgia\n",
      "diabetes\n",
      "gallstones\n",
      "diabetes\n",
      "gout\n",
      "diabetes\n",
      "hypothyroidism\n",
      "diabetes\n",
      "lung_cancer\n",
      "diabetes\n",
      "opioid_addiction\n",
      "diabetes\n",
      "rheumatoid_arthritis\n",
      "diabetes\n",
      "sinusitis\n",
      "diabetes\n",
      "sore_throat\n",
      "diabetes\n",
      "spina_bifida\n",
      "diabetes\n",
      "urinary_tract_infections\n"
     ]
    }
   ],
   "source": [
    "test_disease_b = {i:test_disease('diabetes',i,'test_b') for i in modules}"
   ]
  },
  {
   "cell_type": "code",
   "execution_count": null,
   "outputs": [],
   "source": [
    "test_disease_a = {i:test_disease(i,'gout','test_a') for i in modules}"
   ],
   "metadata": {
    "collapsed": false,
    "pycharm": {
     "name": "#%%\n"
    }
   }
  },
  {
   "cell_type": "code",
   "execution_count": null,
   "outputs": [],
   "source": [
    "sf.run_function('diabetes','spina_bifida\n",
    "                ','test/modules_test','test/csv_test',addition,2000,4,2,True)"
   ],
   "metadata": {
    "collapsed": false,
    "pycharm": {
     "name": "#%%\n"
    }
   }
  },
  {
   "cell_type": "code",
   "execution_count": 11,
   "metadata": {},
   "outputs": [
    {
     "name": "stdout",
     "output_type": "stream",
     "text": [
      "allergic_rhinitis\n",
      "gout\n",
      "appendicitis\n",
      "gout\n",
      "asthma\n",
      "gout\n",
      "attention_deficit_disorder\n",
      "gout\n",
      "breast_cancer\n",
      "gout\n",
      "bronchitis\n",
      "gout\n",
      "cerebral_palsy\n",
      "gout\n",
      "colorectal_cancer\n",
      "gout\n",
      "congestive_heart_failure\n",
      "gout\n",
      "copd\n",
      "gout\n",
      "cystic_fibrosis\n",
      "gout\n",
      "dementia\n",
      "gout\n",
      "dermatitis\n",
      "gout\n",
      "ear_infections\n",
      "gout\n",
      "epilepsy\n",
      "gout\n",
      "fibromyalgia\n",
      "gout\n",
      "gallstones\n",
      "gout\n",
      "gout\n",
      "gout\n",
      "hypothyroidism\n",
      "gout\n",
      "lung_cancer\n",
      "gout\n",
      "opioid_addiction\n",
      "gout\n",
      "rheumatoid_arthritis\n",
      "gout\n",
      "sinusitis\n",
      "gout\n",
      "sore_throat\n",
      "gout\n",
      "spina_bifida\n",
      "gout\n",
      "urinary_tract_infections\n",
      "gout\n"
     ]
    }
   ],
   "source": [
    "sf.run_function('diabetes','spina_bifida\n",
    "                ','test/modules_test','test/csv_test',addition,2000,4,2,True)"
   ]
  },
  {
   "cell_type": "code",
   "execution_count": 13,
   "metadata": {},
   "outputs": [
    {
     "data": {
      "text/plain": [
       "{'allergic_rhinitis': 'shit broke',\n",
       " 'appendicitis': 'shit broke',\n",
       " 'asthma': 'shit broke',\n",
       " 'attention_deficit_disorder': 'shit broke',\n",
       " 'breast_cancer': 'shit broke',\n",
       " 'bronchitis': 'shit broke',\n",
       " 'cerebral_palsy': 'shit broke',\n",
       " 'colorectal_cancer': 'shit broke',\n",
       " 'congestive_heart_failure': 'shit broke',\n",
       " 'copd': 'shit broke',\n",
       " 'cystic_fibrosis': 'shit broke',\n",
       " 'dementia': 'shit broke',\n",
       " 'dermatitis': 'shit broke',\n",
       " 'ear_infections': 'shit broke',\n",
       " 'epilepsy': 'shit broke',\n",
       " 'fibromyalgia': 'shit broke',\n",
       " 'gallstones': 'shit broke',\n",
       " 'gout': 'shit broke',\n",
       " 'hypothyroidism': 'shit broke',\n",
       " 'lung_cancer': 'shit broke',\n",
       " 'opioid_addiction': 'shit broke',\n",
       " 'rheumatoid_arthritis': 'shit broke',\n",
       " 'sinusitis': 'shit broke',\n",
       " 'sore_throat': 'shit broke',\n",
       " 'spina_bifida': 'shit broke',\n",
       " 'urinary_tract_infections': 'shit broke'}"
      ]
     },
     "execution_count": 13,
     "metadata": {},
     "output_type": "execute_result"
    }
   ],
   "source": [
    "sf.run_function('diabetes','spina_bifida\n",
    "                ','test/modules_test','test/csv_test',addition,2000,4,2,True)"
   ]
  }
 ],
 "metadata": {
  "kernelspec": {
   "display_name": "Python 3",
   "language": "python",
   "name": "python3"
  },
  "language_info": {
   "codemirror_mode": {
    "name": "ipython",
    "version": 3
   },
   "file_extension": ".py",
   "mimetype": "text/x-python",
   "name": "python",
   "nbconvert_exporter": "python",
   "pygments_lexer": "ipython3",
   "version": "3.7.7"
  }
 },
 "nbformat": 4,
 "nbformat_minor": 1
}